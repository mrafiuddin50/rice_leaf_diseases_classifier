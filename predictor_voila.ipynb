{
  "nbformat": 4,
  "nbformat_minor": 0,
  "metadata": {
    "colab": {
      "name": "predictor_voila.ipynb",
      "provenance": []
    },
    "kernelspec": {
      "name": "python3",
      "display_name": "Python 3"
    }
  },
  "cells": [
    {
      "cell_type": "code",
      "metadata": {
        "id": "ni2CWbW1w7Cv",
        "colab_type": "code",
        "colab": {
          "base_uri": "https://localhost:8080/",
          "height": 870
        },
        "outputId": "8edb3b5e-8a98-4951-a1e7-c8949f00e0e1"
      },
      "source": [
        "!pip install fastai --upgrade\n",
        "from fastai.vision.all import *"
      ],
      "execution_count": 1,
      "outputs": [
        {
          "output_type": "stream",
          "text": [
            "Collecting fastai\n",
            "\u001b[?25l  Downloading https://files.pythonhosted.org/packages/d4/cf/9140964d3544d904cc718e519e1632a8a42e1eaaf2fafdaaa14716c42336/fastai-2.0.10-py3-none-any.whl (354kB)\n",
            "\r\u001b[K     |█                               | 10kB 18.0MB/s eta 0:00:01\r\u001b[K     |█▉                              | 20kB 1.7MB/s eta 0:00:01\r\u001b[K     |██▊                             | 30kB 2.2MB/s eta 0:00:01\r\u001b[K     |███▊                            | 40kB 2.5MB/s eta 0:00:01\r\u001b[K     |████▋                           | 51kB 1.9MB/s eta 0:00:01\r\u001b[K     |█████▌                          | 61kB 2.2MB/s eta 0:00:01\r\u001b[K     |██████▌                         | 71kB 2.4MB/s eta 0:00:01\r\u001b[K     |███████▍                        | 81kB 2.7MB/s eta 0:00:01\r\u001b[K     |████████▎                       | 92kB 2.8MB/s eta 0:00:01\r\u001b[K     |█████████▎                      | 102kB 2.7MB/s eta 0:00:01\r\u001b[K     |██████████▏                     | 112kB 2.7MB/s eta 0:00:01\r\u001b[K     |███████████                     | 122kB 2.7MB/s eta 0:00:01\r\u001b[K     |████████████                    | 133kB 2.7MB/s eta 0:00:01\r\u001b[K     |█████████████                   | 143kB 2.7MB/s eta 0:00:01\r\u001b[K     |█████████████▉                  | 153kB 2.7MB/s eta 0:00:01\r\u001b[K     |██████████████▉                 | 163kB 2.7MB/s eta 0:00:01\r\u001b[K     |███████████████▊                | 174kB 2.7MB/s eta 0:00:01\r\u001b[K     |████████████████▋               | 184kB 2.7MB/s eta 0:00:01\r\u001b[K     |█████████████████▋              | 194kB 2.7MB/s eta 0:00:01\r\u001b[K     |██████████████████▌             | 204kB 2.7MB/s eta 0:00:01\r\u001b[K     |███████████████████▍            | 215kB 2.7MB/s eta 0:00:01\r\u001b[K     |████████████████████▍           | 225kB 2.7MB/s eta 0:00:01\r\u001b[K     |█████████████████████▎          | 235kB 2.7MB/s eta 0:00:01\r\u001b[K     |██████████████████████▏         | 245kB 2.7MB/s eta 0:00:01\r\u001b[K     |███████████████████████▏        | 256kB 2.7MB/s eta 0:00:01\r\u001b[K     |████████████████████████        | 266kB 2.7MB/s eta 0:00:01\r\u001b[K     |█████████████████████████       | 276kB 2.7MB/s eta 0:00:01\r\u001b[K     |█████████████████████████▉      | 286kB 2.7MB/s eta 0:00:01\r\u001b[K     |██████████████████████████▉     | 296kB 2.7MB/s eta 0:00:01\r\u001b[K     |███████████████████████████▊    | 307kB 2.7MB/s eta 0:00:01\r\u001b[K     |████████████████████████████▋   | 317kB 2.7MB/s eta 0:00:01\r\u001b[K     |█████████████████████████████▋  | 327kB 2.7MB/s eta 0:00:01\r\u001b[K     |██████████████████████████████▌ | 337kB 2.7MB/s eta 0:00:01\r\u001b[K     |███████████████████████████████▍| 348kB 2.7MB/s eta 0:00:01\r\u001b[K     |████████████████████████████████| 358kB 2.7MB/s \n",
            "\u001b[?25hRequirement already satisfied, skipping upgrade: torch>=1.6.0 in /usr/local/lib/python3.6/dist-packages (from fastai) (1.6.0+cu101)\n",
            "Requirement already satisfied, skipping upgrade: torchvision>=0.7 in /usr/local/lib/python3.6/dist-packages (from fastai) (0.7.0+cu101)\n",
            "Requirement already satisfied, skipping upgrade: scikit-learn in /usr/local/lib/python3.6/dist-packages (from fastai) (0.22.2.post1)\n",
            "Requirement already satisfied, skipping upgrade: pip in /usr/local/lib/python3.6/dist-packages (from fastai) (19.3.1)\n",
            "Requirement already satisfied, skipping upgrade: pillow in /usr/local/lib/python3.6/dist-packages (from fastai) (7.0.0)\n",
            "Requirement already satisfied, skipping upgrade: scipy in /usr/local/lib/python3.6/dist-packages (from fastai) (1.4.1)\n",
            "Requirement already satisfied, skipping upgrade: matplotlib in /usr/local/lib/python3.6/dist-packages (from fastai) (3.2.2)\n",
            "Requirement already satisfied, skipping upgrade: pandas in /usr/local/lib/python3.6/dist-packages (from fastai) (1.0.5)\n",
            "Requirement already satisfied, skipping upgrade: requests in /usr/local/lib/python3.6/dist-packages (from fastai) (2.23.0)\n",
            "Requirement already satisfied, skipping upgrade: spacy in /usr/local/lib/python3.6/dist-packages (from fastai) (2.2.4)\n",
            "Collecting fastcore>=1.0.5\n",
            "  Downloading https://files.pythonhosted.org/packages/ca/f6/fe20bfa7d818104f940da81a60e7532090fd87c31f90d4c3b8ae2823d28a/fastcore-1.0.9-py3-none-any.whl\n",
            "Requirement already satisfied, skipping upgrade: pyyaml in /usr/local/lib/python3.6/dist-packages (from fastai) (3.13)\n",
            "Requirement already satisfied, skipping upgrade: packaging in /usr/local/lib/python3.6/dist-packages (from fastai) (20.4)\n",
            "Requirement already satisfied, skipping upgrade: fastprogress>=0.2.4 in /usr/local/lib/python3.6/dist-packages (from fastai) (1.0.0)\n",
            "Requirement already satisfied, skipping upgrade: numpy in /usr/local/lib/python3.6/dist-packages (from torch>=1.6.0->fastai) (1.18.5)\n",
            "Requirement already satisfied, skipping upgrade: future in /usr/local/lib/python3.6/dist-packages (from torch>=1.6.0->fastai) (0.16.0)\n",
            "Requirement already satisfied, skipping upgrade: joblib>=0.11 in /usr/local/lib/python3.6/dist-packages (from scikit-learn->fastai) (0.16.0)\n",
            "Requirement already satisfied, skipping upgrade: pyparsing!=2.0.4,!=2.1.2,!=2.1.6,>=2.0.1 in /usr/local/lib/python3.6/dist-packages (from matplotlib->fastai) (2.4.7)\n",
            "Requirement already satisfied, skipping upgrade: kiwisolver>=1.0.1 in /usr/local/lib/python3.6/dist-packages (from matplotlib->fastai) (1.2.0)\n",
            "Requirement already satisfied, skipping upgrade: python-dateutil>=2.1 in /usr/local/lib/python3.6/dist-packages (from matplotlib->fastai) (2.8.1)\n",
            "Requirement already satisfied, skipping upgrade: cycler>=0.10 in /usr/local/lib/python3.6/dist-packages (from matplotlib->fastai) (0.10.0)\n",
            "Requirement already satisfied, skipping upgrade: pytz>=2017.2 in /usr/local/lib/python3.6/dist-packages (from pandas->fastai) (2018.9)\n",
            "Requirement already satisfied, skipping upgrade: certifi>=2017.4.17 in /usr/local/lib/python3.6/dist-packages (from requests->fastai) (2020.6.20)\n",
            "Requirement already satisfied, skipping upgrade: idna<3,>=2.5 in /usr/local/lib/python3.6/dist-packages (from requests->fastai) (2.10)\n",
            "Requirement already satisfied, skipping upgrade: chardet<4,>=3.0.2 in /usr/local/lib/python3.6/dist-packages (from requests->fastai) (3.0.4)\n",
            "Requirement already satisfied, skipping upgrade: urllib3!=1.25.0,!=1.25.1,<1.26,>=1.21.1 in /usr/local/lib/python3.6/dist-packages (from requests->fastai) (1.24.3)\n",
            "Requirement already satisfied, skipping upgrade: plac<1.2.0,>=0.9.6 in /usr/local/lib/python3.6/dist-packages (from spacy->fastai) (1.1.3)\n",
            "Requirement already satisfied, skipping upgrade: wasabi<1.1.0,>=0.4.0 in /usr/local/lib/python3.6/dist-packages (from spacy->fastai) (0.7.1)\n",
            "Requirement already satisfied, skipping upgrade: srsly<1.1.0,>=1.0.2 in /usr/local/lib/python3.6/dist-packages (from spacy->fastai) (1.0.2)\n",
            "Requirement already satisfied, skipping upgrade: catalogue<1.1.0,>=0.0.7 in /usr/local/lib/python3.6/dist-packages (from spacy->fastai) (1.0.0)\n",
            "Requirement already satisfied, skipping upgrade: setuptools in /usr/local/lib/python3.6/dist-packages (from spacy->fastai) (49.6.0)\n",
            "Requirement already satisfied, skipping upgrade: tqdm<5.0.0,>=4.38.0 in /usr/local/lib/python3.6/dist-packages (from spacy->fastai) (4.41.1)\n",
            "Requirement already satisfied, skipping upgrade: blis<0.5.0,>=0.4.0 in /usr/local/lib/python3.6/dist-packages (from spacy->fastai) (0.4.1)\n",
            "Requirement already satisfied, skipping upgrade: preshed<3.1.0,>=3.0.2 in /usr/local/lib/python3.6/dist-packages (from spacy->fastai) (3.0.2)\n",
            "Requirement already satisfied, skipping upgrade: thinc==7.4.0 in /usr/local/lib/python3.6/dist-packages (from spacy->fastai) (7.4.0)\n",
            "Requirement already satisfied, skipping upgrade: murmurhash<1.1.0,>=0.28.0 in /usr/local/lib/python3.6/dist-packages (from spacy->fastai) (1.0.2)\n",
            "Requirement already satisfied, skipping upgrade: cymem<2.1.0,>=2.0.2 in /usr/local/lib/python3.6/dist-packages (from spacy->fastai) (2.0.3)\n",
            "Requirement already satisfied, skipping upgrade: six in /usr/local/lib/python3.6/dist-packages (from packaging->fastai) (1.15.0)\n",
            "Requirement already satisfied, skipping upgrade: importlib-metadata>=0.20; python_version < \"3.8\" in /usr/local/lib/python3.6/dist-packages (from catalogue<1.1.0,>=0.0.7->spacy->fastai) (1.7.0)\n",
            "Requirement already satisfied, skipping upgrade: zipp>=0.5 in /usr/local/lib/python3.6/dist-packages (from importlib-metadata>=0.20; python_version < \"3.8\"->catalogue<1.1.0,>=0.0.7->spacy->fastai) (3.1.0)\n",
            "Installing collected packages: fastcore, fastai\n",
            "  Found existing installation: fastai 1.0.61\n",
            "    Uninstalling fastai-1.0.61:\n",
            "      Successfully uninstalled fastai-1.0.61\n",
            "Successfully installed fastai-2.0.10 fastcore-1.0.9\n"
          ],
          "name": "stdout"
        }
      ]
    },
    {
      "cell_type": "code",
      "metadata": {
        "id": "yEm_tQNT4K90",
        "colab_type": "code",
        "colab": {}
      },
      "source": [
        "from zipfile import ZipFile\n",
        "\n",
        "!wget https://archive.ics.uci.edu/ml/machine-learning-databases/00486/rice_leaf_diseases.zip\n",
        "!mkdir path\n",
        "\n",
        "with ZipFile('rice_leaf_diseases.zip','r') as zip:\n",
        "  zip.extractall(path='path/')"
      ],
      "execution_count": null,
      "outputs": []
    },
    {
      "cell_type": "code",
      "metadata": {
        "id": "8trbKoxD4WOp",
        "colab_type": "code",
        "colab": {}
      },
      "source": [
        "diseases = DataBlock(\n",
        "    blocks=(ImageBlock, CategoryBlock), \n",
        "    get_items=get_image_files, \n",
        "    splitter=RandomSplitter(valid_pct=0.2, seed=42),\n",
        "    get_y=parent_label,\n",
        "    item_tfms=Resize(224))\n",
        "\n",
        "diseases = diseases.new(item_tfms=Resize(224), batch_tfms=aug_transforms(mult=2))\n",
        "dls = diseases.dataloaders('path')"
      ],
      "execution_count": null,
      "outputs": []
    },
    {
      "cell_type": "code",
      "metadata": {
        "id": "jxOe6vMA4luS",
        "colab_type": "code",
        "colab": {}
      },
      "source": [
        "learn = cnn_learner(dls, resnet50, metrics=error_rate)"
      ],
      "execution_count": null,
      "outputs": []
    },
    {
      "cell_type": "code",
      "metadata": {
        "id": "-0qmt4i04pvp",
        "colab_type": "code",
        "colab": {}
      },
      "source": [
        "learn.fine_tune(10,3e-4)"
      ],
      "execution_count": null,
      "outputs": []
    },
    {
      "cell_type": "code",
      "metadata": {
        "id": "5GwK-KiNxNAR",
        "colab_type": "code",
        "colab": {}
      },
      "source": [
        "from ipywidgets import widgets\n",
        "from ipywidgets import VBox\n",
        "\n",
        "btn_upload = widgets.FileUpload()\n",
        "out_pl = widgets.Output()\n",
        "lbl_pred = widgets.Label()\n",
        "btn_run = widgets.Button(description='Classify')\n",
        "\n",
        "VBox([widgets.Label('Select rice disease image'), \n",
        "      btn_upload, btn_run, out_pl, lbl_pred])\n",
        "\n",
        "def on_click_classify(change):\n",
        "    img = PILImage.create(btn_upload.data[-1])\n",
        "    out_pl.clear_output()\n",
        "    with out_pl: display(img.to_thumb(128,128))\n",
        "    pred,pred_idx,probs = learn.predict(img)\n",
        "    lbl_pred.value = f'Prediction: {pred}; Probability: {probs[pred_idx]:.04f}'\n",
        "\n",
        "btn_run.on_click(on_click_classify)    "
      ],
      "execution_count": null,
      "outputs": []
    }
  ]
}